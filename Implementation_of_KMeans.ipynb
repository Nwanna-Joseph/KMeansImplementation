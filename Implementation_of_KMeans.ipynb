{
  "nbformat": 4,
  "nbformat_minor": 0,
  "metadata": {
    "colab": {
      "name": "Implementation of KMeans.ipynb",
      "provenance": [],
      "collapsed_sections": [],
      "authorship_tag": "ABX9TyNhuQoVxycd4OxHprPFDqSA",
      "include_colab_link": true
    },
    "kernelspec": {
      "name": "python3",
      "display_name": "Python 3"
    },
    "language_info": {
      "name": "python"
    }
  },
  "cells": [
    {
      "cell_type": "markdown",
      "metadata": {
        "id": "view-in-github",
        "colab_type": "text"
      },
      "source": [
        "<a href=\"https://colab.research.google.com/github/Nwanna-Joseph/KMeansImplementation/blob/main/Implementation_of_KMeans.ipynb\" target=\"_parent\"><img src=\"https://colab.research.google.com/assets/colab-badge.svg\" alt=\"Open In Colab\"/></a>"
      ]
    },
    {
      "cell_type": "code",
      "execution_count": null,
      "metadata": {
        "id": "d8jl10VseVFE"
      },
      "outputs": [],
      "source": [
        "class K_Means:\n",
        "\n",
        "  def __init__(self, K, dataset):\n",
        "    self.clusters = []\n",
        "    self.dataset = dataset\n",
        "    self.K = K\n",
        "    print(f\"Kmeans initialized with k = {self.K} and dataset with shape {self.dataset.shape}\")\n",
        "\n",
        "  def _initializeCentroids(self):\n",
        "    np.random.seed(100)\n",
        "    indices = np.arange(len(self.dataset))\n",
        "    np.random.shuffle(indices)\n",
        "    shuffled_indices = indices[:self.K]\n",
        "    # print(shuffled_indices)\n",
        "    for i,val in enumerate(shuffled_indices):\n",
        "      init_point = self.dataset[val]\n",
        "      print(f\"Cluster {i+1} initialized with datapoint {init_point} at index {val}\")\n",
        "      self.clusters.append(cluster(init_point))\n",
        "\n",
        "\n",
        "  def _computeDistanceFromClusters(self, datapoint_i):\n",
        "    distances = []\n",
        "    for cl in self.clusters:\n",
        "      distances.append(np.linalg.norm(cl.centeroid - datapoint_i))\n",
        "    return distances\n",
        "\n",
        "  def _assignDatapointToCluster(self, dataset_i, distances_from_clusters):\n",
        "    index_of_nearest_cluster = np.argsort(distances_from_clusters)[0]\n",
        "    self.clusters[index_of_nearest_cluster].contents.append(dataset_i)\n",
        "\n",
        "\n",
        "  def _updateClusterCenter(self, min_difference):\n",
        "    restart = False\n",
        "    print(\"\\n\")\n",
        "    for i,cl in enumerate(self.clusters):\n",
        "      calc_cl_mean = sum(cl.contents)/(len(cl.contents))\n",
        "      distance = (np.linalg.norm(cl.centeroid - calc_cl_mean))\n",
        "      restart = ( distance > min_difference) or restart\n",
        "      print(f\"Cluster {i} with {len(cl.contents)} datapoints has a variance = {distance} and target {min_difference}. Should restart {restart}\")\n",
        "      cl.centeroid = calc_cl_mean\n",
        "      cl.squared_errors = np.sum( np.linalg.norm(cl.contents - cl.centeroid) )\n",
        "      cl.contents = []\n",
        "    return restart\n",
        "\n",
        "  def computeOverallSSE(self):\n",
        "    sum = self.clusters[0].squared_errors\n",
        "    for cl in self.clusters[1:]:\n",
        "      sum += cl.squared_errors\n",
        "    return sum\n",
        "\n",
        "  \n",
        "  def cluster(self):\n",
        "    restart = True\n",
        "    self._initializeCentroids()\n",
        "    while (restart):\n",
        "      for dpoint in self.dataset: \n",
        "        distances = self._computeDistanceFromClusters(dpoint)\n",
        "        self._assignDatapointToCluster(dpoint,distances)\n",
        "      restart = self._updateClusterCenter(0)"
      ]
    },
    {
      "cell_type": "code",
      "source": [
        "#Initialize your class and fit on the data\n",
        "\n",
        "k_means_m = K_Means(5,X)\n",
        "k_means_m.cluster()\n",
        "# k_means_m.computeOverallSSE()"
      ],
      "metadata": {
        "id": "sfO4VVOLeZUx"
      },
      "execution_count": null,
      "outputs": []
    },
    {
      "cell_type": "code",
      "source": [
        "dataForTraining = X\n",
        "distortions = [] #SSE\n",
        "for k in range(1,5):\n",
        "  if(k ==0):\n",
        "    continue\n",
        "  km_ = K_Means(k,X)\n",
        "  km_.cluster() \n",
        "  distortions.append(km_.computeOverallSSE())\n",
        "\n",
        "\n",
        "plt.plot(range(1, 5), distortions, marker='o')\n",
        "plt.xlabel('Number of clusters')\n",
        "plt.ylabel('Distortion')\n",
        "plt.show()"
      ],
      "metadata": {
        "id": "Y1mckVGJfSYd"
      },
      "execution_count": null,
      "outputs": []
    }
  ]
}